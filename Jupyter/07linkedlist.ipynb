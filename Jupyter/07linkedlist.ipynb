{
 "cells": [
  {
   "cell_type": "markdown",
   "metadata": {},
   "source": [
    "링크드 리스트 Linked List  \n",
    "  \n",
    "연결 리스트라고도 함  \n",
    "배열은 순차적으로 연결된 공간에 데이터를 나열하는 데이터 구조  \n",
    "링크드 리스트는 떨어진 곳에 존재하는 데이터를 화살표로 연결해서 관리하는 데이터 구조  \n",
    "본래 c언어에서는 주요한 데이터 구조이지만, 파이썬은 리스트타입이 링크드 리스트의 기능을 모두 지원"
   ]
  },
  {
   "cell_type": "markdown",
   "metadata": {},
   "source": [
    "링크드리스트  \n",
    "노드(Node): 데이터 저장단위(데이터값, 포인터)로 구성  \n",
    "포인터(pointer): 각 노드 안에서, 다음이나 이전의 노드와의 연결정보를 가지고 있는 공간  \n"
   ]
  },
  {
   "cell_type": "markdown",
   "metadata": {},
   "source": []
  }
 ],
 "metadata": {
  "language_info": {
   "name": "python"
  },
  "orig_nbformat": 4
 },
 "nbformat": 4,
 "nbformat_minor": 2
}
