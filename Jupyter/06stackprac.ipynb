{
 "cells": [
  {
   "cell_type": "markdown",
   "metadata": {},
   "source": [
    "데이터를 제한적으로 접근할 수 있는 구조  \n",
    "한쪽 끝에서만 자료를 넣거나 뺄 수 있는 구조 > LIFO정책 (Last In First Out) > 쌓아놓은 책을 가져오는 느낌"
   ]
  },
  {
   "cell_type": "markdown",
   "metadata": {},
   "source": [
    "대표적인 활용 예 > 컴퓨터 내부의 프로세스 구조의 함수 동작 방식  \n",
    "push() 데이터를 스택에 넣기  \n",
    "pop() 데이터를 스택에서 꺼내기  "
   ]
  },
  {
   "cell_type": "markdown",
   "metadata": {},
   "source": []
  },
  {
   "cell_type": "code",
   "execution_count": 1,
   "metadata": {},
   "outputs": [],
   "source": [
    "def recursive(data):\n",
    " if data < 0:\n",
    "     print('ended')\n",
    " else:\n",
    "    print(data)\n",
    "    recursive(data-1)\n",
    "    print('returned',data)"
   ]
  },
  {
   "cell_type": "code",
   "execution_count": 2,
   "metadata": {},
   "outputs": [
    {
     "name": "stdout",
     "output_type": "stream",
     "text": [
      "4\n",
      "3\n",
      "2\n",
      "1\n",
      "0\n",
      "ended\n",
      "returned 0\n",
      "returned 1\n",
      "returned 2\n",
      "returned 3\n",
      "returned 4\n"
     ]
    }
   ],
   "source": [
    "recursive(4)"
   ]
  },
  {
   "cell_type": "markdown",
   "metadata": {},
   "source": [
    "장점  \n",
    "구조가 단순해서, 구현이 쉽다.  \n",
    "데이터 저장/읽기 속도가 빠르다.  \n",
    "  \n",
    "단점  \n",
    "데이터 최대 갯수를 미리 정해야 한다.  \n",
    "파이썬의 경우 재귀함수는 1000번까지만 호출이 가능함  \n",
    "저장공간의 낭비가 발생할 수 있음  \n",
    "미리 최대갯수만큼 공간을 확보해야하니까  \n",
    "  \n",
    "스택은 단순하고 빠른 성능을 위해 사용되므로, 보통 배열구조를 활용해서 구현하는것이 일반적임(배열이 리스트보다 빠르니까). 이 경우, 위의 단점들이 드러날 수 있음"
   ]
  },
  {
   "cell_type": "code",
   "execution_count": 3,
   "metadata": {},
   "outputs": [],
   "source": [
    "data_stack = list()\n",
    "\n",
    "data_stack.append(1)\n",
    "data_stack.append(2)\n",
    "data_stack.append(3)"
   ]
  },
  {
   "cell_type": "code",
   "execution_count": 4,
   "metadata": {},
   "outputs": [
    {
     "data": {
      "text/plain": [
       "[1, 2, 3]"
      ]
     },
     "execution_count": 4,
     "metadata": {},
     "output_type": "execute_result"
    }
   ],
   "source": [
    "data_stack"
   ]
  },
  {
   "cell_type": "code",
   "execution_count": 5,
   "metadata": {},
   "outputs": [
    {
     "data": {
      "text/plain": [
       "3"
      ]
     },
     "execution_count": 5,
     "metadata": {},
     "output_type": "execute_result"
    }
   ],
   "source": [
    "data_stack.pop()"
   ]
  },
  {
   "cell_type": "markdown",
   "metadata": {},
   "source": [
    "리스트 변수에서 인덱스 [0]은 맨 처음자리 [-1]은 맨 끝자리를 가르킨다."
   ]
  },
  {
   "cell_type": "markdown",
   "metadata": {},
   "source": []
  }
 ],
 "metadata": {
  "interpreter": {
   "hash": "2be5faf79681da6f2a61fdfdd5405d65d042280f7fba6178067603e3a2925119"
  },
  "kernelspec": {
   "display_name": "Python 3.10.2 64-bit",
   "language": "python",
   "name": "python3"
  },
  "language_info": {
   "codemirror_mode": {
    "name": "ipython",
    "version": 3
   },
   "file_extension": ".py",
   "mimetype": "text/x-python",
   "name": "python",
   "nbconvert_exporter": "python",
   "pygments_lexer": "ipython3",
   "version": "3.10.2"
  },
  "orig_nbformat": 4
 },
 "nbformat": 4,
 "nbformat_minor": 2
}
